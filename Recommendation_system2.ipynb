{
  "nbformat": 4,
  "nbformat_minor": 0,
  "metadata": {
    "colab": {
      "provenance": [],
      "authorship_tag": "ABX9TyN17L8VhYI25UCk5C45E88B",
      "include_colab_link": true
    },
    "kernelspec": {
      "name": "python3",
      "display_name": "Python 3"
    },
    "language_info": {
      "name": "python"
    }
  },
  "cells": [
    {
      "cell_type": "markdown",
      "metadata": {
        "id": "view-in-github",
        "colab_type": "text"
      },
      "source": [
        "<a href=\"https://colab.research.google.com/github/archanaanbalagan11/codsoft-2/blob/main/Recommendation_system2.ipynb\" target=\"_parent\"><img src=\"https://colab.research.google.com/assets/colab-badge.svg\" alt=\"Open In Colab\"/></a>"
      ]
    },
    {
      "cell_type": "code",
      "execution_count": 1,
      "metadata": {
        "colab": {
          "base_uri": "https://localhost:8080/"
        },
        "id": "SIx8qPq0qwWU",
        "outputId": "db6a9cb3-bb2c-42f5-bd8f-e043ea38556a"
      },
      "outputs": [
        {
          "output_type": "stream",
          "name": "stdout",
          "text": [
            "Enter your favorite movie: Gravity\n",
            "\n",
            "Recommended movies for you:\n",
            "- Inception (Sci-Fi Thriller)\n",
            "- The Matrix (Action Sci-Fi)\n",
            "- Interstellar (Sci-Fi Adventure)\n"
          ]
        }
      ],
      "source": [
        "from sklearn.metrics.pairwise import cosine_similarity\n",
        "from sklearn.feature_extraction.text import CountVectorizer\n",
        "\n",
        "# Step 1: Our in-code dataset\n",
        "movies = [\n",
        "    {\"title\": \"The Matrix\", \"genre\": \"Action Sci-Fi\"},\n",
        "    {\"title\": \"John Wick\", \"genre\": \"Action Thriller\"},\n",
        "    {\"title\": \"Interstellar\", \"genre\": \"Sci-Fi Adventure\"},\n",
        "    {\"title\": \"Inception\", \"genre\": \"Sci-Fi Thriller\"},\n",
        "    {\"title\": \"The Dark Knight\", \"genre\": \"Action Crime\"},\n",
        "    {\"title\": \"Gravity\", \"genre\": \"Sci-Fi Drama\"}\n",
        "]\n",
        "\n",
        "# Step 2: Extract genres for vectorization\n",
        "movie_titles = [movie[\"title\"] for movie in movies]\n",
        "movie_genres = [movie[\"genre\"] for movie in movies]\n",
        "\n",
        "# Step 3: Convert genres to vectors\n",
        "vectorizer = CountVectorizer()\n",
        "genre_matrix = vectorizer.fit_transform(movie_genres)\n",
        "\n",
        "# Step 4: Take user input\n",
        "user_fav = input(\"Enter your favorite movie: \")\n",
        "\n",
        "if user_fav in movie_titles:\n",
        "    movie_index = movie_titles.index(user_fav)\n",
        "\n",
        "    # Step 5: Compute similarity\n",
        "    similarity_scores = cosine_similarity(genre_matrix[movie_index], genre_matrix).flatten()\n",
        "\n",
        "    # Step 6: Sort by similarity\n",
        "    similar_indices = similarity_scores.argsort()[::-1]\n",
        "\n",
        "    print(\"\\nRecommended movies for you:\")\n",
        "    for idx in similar_indices[1:4]:  # skip first (same movie)\n",
        "        print(f\"- {movie_titles[idx]} ({movie_genres[idx]})\")\n",
        "else:\n",
        "    print(\"Movie not found in database!\")\n"
      ]
    }
  ]
}
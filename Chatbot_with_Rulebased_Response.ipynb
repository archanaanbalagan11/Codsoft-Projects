{
  "nbformat": 4,
  "nbformat_minor": 0,
  "metadata": {
    "colab": {
      "provenance": [],
      "authorship_tag": "ABX9TyO5x45IeoDtCbKRI76KNwDM"
    },
    "kernelspec": {
      "name": "python3",
      "display_name": "Python 3"
    },
    "language_info": {
      "name": "python"
    }
  },
  "cells": [
    {
      "cell_type": "code",
      "execution_count": 1,
      "metadata": {
        "colab": {
          "base_uri": "https://localhost:8080/"
        },
        "id": "1B47QUwouEUl",
        "outputId": "61696c8f-c76d-42a3-a8f3-a40d23516188"
      },
      "outputs": [
        {
          "output_type": "stream",
          "name": "stdout",
          "text": [
            "🤖 Chatbot: Hello! I am your friendly chatbot. Type 'bye' to exit.\n",
            "You: how are you\n",
            "🤖 Chatbot: I'm doing great! Just living in your terminal 😄. How about you?\n",
            "You: yeah good\n",
            "🤖 Chatbot: Hmm… I didn’t quite get that. Can you rephrase?\n",
            "You: \n",
            "🤖 Chatbot: Hmm… I didn’t quite get that. Can you rephrase?\n",
            "You: bye\n",
            "🤖 Chatbot: Goodbye! Have an amazing day! 👋\n"
          ]
        }
      ],
      "source": [
        "import re\n",
        "from datetime import datetime\n",
        "\n",
        "print(\"🤖 Chatbot: Hello! I am your friendly chatbot. Type 'bye' to exit.\")\n",
        "\n",
        "while True:\n",
        "    user_input = input(\"You: \").lower()\n",
        "\n",
        "    # Greetings\n",
        "    if re.search(r\"\\b(hi|hello|hey)\\b\", user_input):\n",
        "        print(\"🤖 Chatbot: Hey there! How’s your day going?\")\n",
        "\n",
        "    # Asking how chatbot is\n",
        "    elif re.search(r\"how are you\", user_input):\n",
        "        print(\"🤖 Chatbot: I'm doing great! Just living in your terminal 😄. How about you?\")\n",
        "\n",
        "    # Name\n",
        "    elif re.search(r\"(your name|who are you)\", user_input):\n",
        "        print(\"🤖 Chatbot: I’m ChatBot 2.0, your virtual buddy!\")\n",
        "\n",
        "    # Help request\n",
        "    elif re.search(r\"help|assist|support\", user_input):\n",
        "        print(\"🤖 Chatbot: Sure! I can tell you jokes, the time, some facts, or just chat.\")\n",
        "\n",
        "    # Time\n",
        "    elif re.search(r\"time\", user_input):\n",
        "        now = datetime.now()\n",
        "        print(f\"🤖 Chatbot: The current time is {now.strftime('%H:%M:%S')}\")\n",
        "\n",
        "    # Date\n",
        "    elif re.search(r\"date|day\", user_input):\n",
        "        today = datetime.now()\n",
        "        print(f\"🤖 Chatbot: Today is {today.strftime('%A, %B %d, %Y')}\")\n",
        "\n",
        "    # Jokes\n",
        "    elif re.search(r\"joke\", user_input):\n",
        "        jokes = [\n",
        "            \"Why did the computer go to the doctor? Because it caught a virus! 💻🤒\",\n",
        "            \"Why don’t skeletons fight each other? They don’t have the guts!\",\n",
        "            \"Why was the math book sad? It had too many problems.\"\n",
        "        ]\n",
        "        import random\n",
        "        print(\"😂 Chatbot:\", random.choice(jokes))\n",
        "\n",
        "    # Fun facts\n",
        "    elif re.search(r\"fact\", user_input):\n",
        "        facts = [\n",
        "            \"Honey never spoils. Archaeologists have found 3000-year-old honey still edible.\",\n",
        "            \"Bananas are berries, but strawberries aren’t.\",\n",
        "            \"Octopuses have three hearts!\"\n",
        "        ]\n",
        "        import random\n",
        "        print(\"📚 Chatbot:\", random.choice(facts))\n",
        "\n",
        "    # Weather (mock response)\n",
        "    elif re.search(r\"weather\", user_input):\n",
        "        print(\"🌤️ Chatbot: I can’t check live weather yet, but I hope it’s sunny where you are!\")\n",
        "\n",
        "    # Farewell\n",
        "    elif re.search(r\"\\b(bye|exit|quit)\\b\", user_input):\n",
        "        print(\"🤖 Chatbot: Goodbye! Have an amazing day! 👋\")\n",
        "        break\n",
        "\n",
        "    # Unknown input\n",
        "    else:\n",
        "        print(\"🤖 Chatbot: Hmm… I didn’t quite get that. Can you rephrase?\")\n"
      ]
    }
  ]
}